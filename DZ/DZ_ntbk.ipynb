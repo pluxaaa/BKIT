{
 "cells": [
  {
   "cell_type": "code",
   "execution_count": null,
   "metadata": {},
   "outputs": [],
   "source": [
    "import requests\n",
    "r = requests.get('http://127.0.0.1:5000/20').json() #http://127.0.0.1:5000/N - первые N чисел\n",
    "print(r)"
   ]
  },
  {
   "cell_type": "code",
   "execution_count": null,
   "metadata": {},
   "outputs": [],
   "source": [
    "import matplotlib.pyplot as plt\n",
    "import requests\n",
    "\n",
    "fib_numbers_amount = 15\n",
    "\n",
    "fib_numbers = requests.get('http://127.0.0.1:5000/{}'.format(fib_numbers_amount)).json()\n",
    "\n",
    "x = [x for x in range(fib_numbers_amount)]\n",
    "y = fib_numbers\n",
    "\n",
    "fig, ax = plt.subplots()\n",
    "plt.xlabel('№ числа')\n",
    "plt.ylabel('Значение')\n",
    "plt.title('Первые {} чисел последовательности Фибоначчи'.format(fib_numbers_amount))\n",
    "\n",
    "ax.plot(x, y, color='red', marker='o', linestyle=':',\n",
    "     linewidth=2, markersize=6)\n",
    "ax.grid(True)\n",
    "\n",
    "plt.show()"
   ]
  },
  {
   "cell_type": "code",
   "execution_count": null,
   "metadata": {},
   "outputs": [],
   "source": [
    "import matplotlib.pyplot as plt\n",
    "import requests\n",
    "\n",
    "\n",
    "fib_numbers_amount = 15\n",
    "\n",
    "fib_numbers = requests.get('http://127.0.0.1:5000/{}'.format(fib_numbers_amount)).json()\n",
    "\n",
    "xs = [xs for xs in range(fib_numbers_amount)]\n",
    "ys = fib_numbers\n",
    "\n",
    "plt.figure(figsize=(8,8))\n",
    "\n",
    "fig, ax = plt.subplots(subplot_kw={'projection': 'polar'})\n",
    "ax.set_rlabel_position(-22.5)  # Move radial labels away from plotted line\n",
    "ax.plot(xs, ys)\n",
    "ax.grid(True)\n",
    "\n",
    "plt.show()"
   ]
  }
 ],
 "metadata": {
  "kernelspec": {
   "display_name": "Python 3",
   "language": "python",
   "name": "python3"
  },
  "language_info": {
   "codemirror_mode": {
    "name": "ipython",
    "version": 3
   },
   "file_extension": ".py",
   "mimetype": "text/x-python",
   "name": "python",
   "nbconvert_exporter": "python",
   "pygments_lexer": "ipython3",
   "version": "3.10.4 (tags/v3.10.4:9d38120, Mar 23 2022, 23:13:41) [MSC v.1929 64 bit (AMD64)]"
  },
  "orig_nbformat": 4,
  "vscode": {
   "interpreter": {
    "hash": "523f584ecbf5c9b1683e30e59b32f64e623a96bb3a8bdaed627e557324f757c9"
   }
  }
 },
 "nbformat": 4,
 "nbformat_minor": 2
}
